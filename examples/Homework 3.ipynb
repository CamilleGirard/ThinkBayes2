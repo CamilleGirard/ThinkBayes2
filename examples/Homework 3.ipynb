{
 "cells": [
  {
   "cell_type": "markdown",
   "metadata": {},
   "source": [
    "# Think Bayes Homework 3\n",
    "\n",
    "This notebook presents example code and exercise solutions for Think Bayes.\n",
    "\n",
    "Camille Girard\n",
    "\n",
    "MIT License: https://opensource.org/licenses/MIT"
   ]
  },
  {
   "cell_type": "code",
   "execution_count": 22,
   "metadata": {},
   "outputs": [
    {
     "name": "stderr",
     "output_type": "stream",
     "text": [
      "ERROR:root:The 'ast_node_interactivity' trait of a ZMQInteractiveShell instance must be any of ['all', 'last', 'last_expr', 'none'], but a value of 'last_expr_or_assign' <class 'str'> was specified.\n"
     ]
    }
   ],
   "source": [
    "# Configure Jupyter so figures appear in the notebook\n",
    "%matplotlib inline\n",
    "\n",
    "# Configure Jupyter to display the assigned value after an assignment\n",
    "%config InteractiveShell.ast_node_interactivity='last_expr_or_assign'\n",
    "\n",
    "# import classes from thinkbayes2\n",
    "from thinkbayes2 import Pmf, Suite, Beta, MakeGammaPmf\n",
    "import thinkbayes2\n",
    "\n",
    "import matplotlib.pyplot as plt\n",
    "import thinkplot\n",
    "import pandas as pd\n",
    "import numpy as np\n",
    "from scipy.stats import norm, hypergeom\n",
    "import math\n",
    "from thinkbayes2 import MakePoissonPmf\n",
    "\n",
    "class BayesTable(pd.DataFrame):\n",
    "    def __init__(self, hypo, prior=1):\n",
    "        columns = ['hypo', 'prior', 'likelihood', 'unnorm', 'posterior']\n",
    "        super().__init__(columns=columns)\n",
    "        self.hypo = hypo\n",
    "        self.prior = prior\n",
    "    \n",
    "    def mult(self):\n",
    "        self.unnorm = self.prior * self.likelihood\n",
    "        \n",
    "    def norm(self):\n",
    "        nc = np.sum(self.unnorm)\n",
    "        self.posterior = self.unnorm / nc\n",
    "        return nc\n",
    "    \n",
    "    def update(self):\n",
    "        self.mult()\n",
    "        return self.norm()\n",
    "    \n",
    "    def reset(self):\n",
    "        return BayesTable(self.hypo, self.posterior)"
   ]
  },
  {
   "cell_type": "markdown",
   "metadata": {
    "collapsed": true
   },
   "source": [
    "# The Flea Beetle Problem"
   ]
  },
  {
   "cell_type": "markdown",
   "metadata": {},
   "source": [
    "Different species of flea beetle can be distinguished by the width and angle of the aedeagus. The data below includes measurements and know species classification for 74 specimens.\n",
    "\n",
    "Suppose you discover a new specimen under conditions where it is equally likely to be any of the three species. You measure the aedeagus and width 140 microns and angle 15 (in multiples of 7.5 degrees). What is the probability that it belongs to each species?"
   ]
  },
  {
   "cell_type": "code",
   "execution_count": 23,
   "metadata": {
    "collapsed": true
   },
   "outputs": [],
   "source": [
    "data = pd.read_csv('../data/flea_beetles.csv', delimiter='\\t')"
   ]
  },
  {
   "cell_type": "code",
   "execution_count": 24,
   "metadata": {
    "collapsed": true
   },
   "outputs": [],
   "source": [
    "species = data['Species']"
   ]
  },
  {
   "cell_type": "code",
   "execution_count": 25,
   "metadata": {
    "collapsed": true
   },
   "outputs": [],
   "source": [
    "con_beetles = data[0:21]\n",
    "con_mu_w,con_std_w = norm.fit(con_beetles['Width'])\n",
    "con_mu_a,con_std_a = norm.fit(con_beetles['Angle'])"
   ]
  },
  {
   "cell_type": "code",
   "execution_count": 26,
   "metadata": {
    "collapsed": true
   },
   "outputs": [],
   "source": [
    "hei_beetles = data[21:52]\n",
    "hei_mu_w,hei_std_w = norm.fit(hei_beetles['Width'])\n",
    "hei_mu_a,hei_std_a = norm.fit(hei_beetles['Angle'])"
   ]
  },
  {
   "cell_type": "code",
   "execution_count": 27,
   "metadata": {
    "collapsed": true
   },
   "outputs": [],
   "source": [
    "hep_beetles = data[52:74]\n",
    "hep_mu_w,hep_std_w = norm.fit(hep_beetles['Width'])\n",
    "hep_mu_a,hep_std_a = norm.fit(hep_beetles['Angle'])"
   ]
  },
  {
   "cell_type": "code",
   "execution_count": 28,
   "metadata": {
    "collapsed": true
   },
   "outputs": [],
   "source": [
    "con = norm(con_mu_w, con_std_w)\n",
    "hei = norm(hei_mu_w, hei_std_w)\n",
    "hep = norm(hep_mu_w, hep_std_w)\n",
    "con_a = norm(con_mu_a, con_std_a)\n",
    "hei_a = norm(hei_mu_a, hei_std_a)\n",
    "hep_a = norm(hep_mu_a, hep_std_a)"
   ]
  },
  {
   "cell_type": "code",
   "execution_count": 29,
   "metadata": {},
   "outputs": [
    {
     "data": {
      "text/html": [
       "<div>\n",
       "<style scoped>\n",
       "    .dataframe tbody tr th:only-of-type {\n",
       "        vertical-align: middle;\n",
       "    }\n",
       "\n",
       "    .dataframe tbody tr th {\n",
       "        vertical-align: top;\n",
       "    }\n",
       "\n",
       "    .dataframe thead th {\n",
       "        text-align: right;\n",
       "    }\n",
       "</style>\n",
       "<table border=\"1\" class=\"dataframe\">\n",
       "  <thead>\n",
       "    <tr style=\"text-align: right;\">\n",
       "      <th></th>\n",
       "      <th>hypo</th>\n",
       "      <th>prior</th>\n",
       "      <th>likelihood</th>\n",
       "      <th>unnorm</th>\n",
       "      <th>posterior</th>\n",
       "    </tr>\n",
       "  </thead>\n",
       "  <tbody>\n",
       "    <tr>\n",
       "      <th>0</th>\n",
       "      <td>Con</td>\n",
       "      <td>1</td>\n",
       "      <td>1.027345e-02</td>\n",
       "      <td>1.027345e-02</td>\n",
       "      <td>0.991579</td>\n",
       "    </tr>\n",
       "    <tr>\n",
       "      <th>1</th>\n",
       "      <td>Hei</td>\n",
       "      <td>1</td>\n",
       "      <td>8.718850e-05</td>\n",
       "      <td>8.718850e-05</td>\n",
       "      <td>0.008415</td>\n",
       "    </tr>\n",
       "    <tr>\n",
       "      <th>2</th>\n",
       "      <td>Hep</td>\n",
       "      <td>1</td>\n",
       "      <td>5.869521e-08</td>\n",
       "      <td>5.869521e-08</td>\n",
       "      <td>0.000006</td>\n",
       "    </tr>\n",
       "  </tbody>\n",
       "</table>\n",
       "</div>"
      ],
      "text/plain": [
       "  hypo  prior    likelihood        unnorm  posterior\n",
       "0  Con      1  1.027345e-02  1.027345e-02   0.991579\n",
       "1  Hei      1  8.718850e-05  8.718850e-05   0.008415\n",
       "2  Hep      1  5.869521e-08  5.869521e-08   0.000006"
      ]
     },
     "execution_count": 29,
     "metadata": {},
     "output_type": "execute_result"
    }
   ],
   "source": [
    "beetles = BayesTable(['Con', 'Hei','Hep'], [1,1,1])\n",
    "beetles.likelihood = [con.pdf(140)*con_a.pdf(15), hei.pdf(140)*hei_a.pdf(15), hep.pdf(140)* hep_a.pdf(15)]\n",
    "beetles.update()\n",
    "beetles"
   ]
  },
  {
   "cell_type": "markdown",
   "metadata": {},
   "source": [
    "# The Alien Blaster Problem"
   ]
  },
  {
   "cell_type": "markdown",
   "metadata": {},
   "source": [
    "In preparation for an alien invasion, the Earth Defense League (EDL) has been working on new missiles to shoot down space invaders.  Of course, some missile designs are better than others; let's assume that each design has some probability of hitting an alien ship, x.\n",
    "\n",
    "Based on previous tests, the distribution of x in the population of designs is well described by a Beta distribution with parameters 5, 10.\n",
    "\n",
    "Now suppose the new ultra-secret Alien Blaster 9000 is being tested.  In a press conference, an EDL general reports that the new design has been tested twice, taking two shots during each test.  The results of the test are confidential, so the general won't say how many targets were hit, but they report: ``The same number of targets were hit in the two tests, so we have reason to think this new design is consistent.''\n",
    "\n",
    "Is this data good or bad; that is, does it increase or decrease your estimate of x for the Alien Blaster 9000?"
   ]
  },
  {
   "cell_type": "code",
   "execution_count": 30,
   "metadata": {},
   "outputs": [
    {
     "data": {
      "text/plain": [
       "0.3333333333333333"
      ]
     },
     "execution_count": 30,
     "metadata": {},
     "output_type": "execute_result"
    },
    {
     "data": {
      "image/png": "[encoded data removed]",
      "text/plain": [
       "<matplotlib.figure.Figure at 0x7f0c3483abe0>"
      ]
     },
     "metadata": {},
     "output_type": "display_data"
    }
   ],
   "source": [
    "prior = Beta(5, 10)\n",
    "thinkplot.Pdf(prior.MakePmf())\n",
    "prior.Mean()"
   ]
  },
  {
   "cell_type": "code",
   "execution_count": 31,
   "metadata": {
    "collapsed": true
   },
   "outputs": [],
   "source": [
    "from scipy import stats\n",
    "\n",
    "class AlienBlaster(Suite):\n",
    "    \n",
    "    def Likelihood(self, data, hypo):\n",
    "        \"\"\"Computes the likeliood of data under hypo.\n",
    "        \n",
    "        data: number of shots they took\n",
    "        hypo: probability of a hit, p\n",
    "        \"\"\"\n",
    "        n = data\n",
    "        x = hypo\n",
    "        \n",
    "        # specific version for n=2 shots\n",
    "        likes = [x**4, (1-x)**4, (2*x*(1-x))**2]\n",
    "\n",
    "        # general version for any n shots\n",
    "        likes = [stats.binom.pmf(k, n, x)**2 for k in range(n+1)]\n",
    "        \n",
    "        return np.sum(likes)"
   ]
  },
  {
   "cell_type": "code",
   "execution_count": 32,
   "metadata": {},
   "outputs": [
    {
     "data": {
      "text/plain": [
       "0.3175635713858314"
      ]
     },
     "execution_count": 32,
     "metadata": {},
     "output_type": "execute_result"
    },
    {
     "data": {
      "image/png": "[encoded data removed]",
      "text/plain": [
       "<matplotlib.figure.Figure at 0x7f0c34732f28>"
      ]
     },
     "metadata": {},
     "output_type": "display_data"
    }
   ],
   "source": [
    "pmf =  Beta(5, 10).MakePmf()\n",
    "blaster = AlienBlaster(pmf)\n",
    "blaster.Update(2)\n",
    "thinkplot.Pdf(blaster)\n",
    "blaster.Mean()"
   ]
  },
  {
   "cell_type": "markdown",
   "metadata": {},
   "source": [
    "# The Grizzly Bear Problem"
   ]
  },
  {
   "cell_type": "markdown",
   "metadata": {},
   "source": [
    "In 1996 and 1997 Mowat and Strobeck deployed bear traps in locations in British Columbia and Alberta, in an effort to estimate the population of grizzly bears.  They describe the experiment in \"Estimating Population Size of Grizzly Bears Using Hair Capture, DNA Profiling, and Mark-Recapture Analysis\"\n",
    "\n",
    "The \"trap\" consists of  a lure and several strands of barbed wire intended to capture samples of hair from bears that visit the lure.  Using the hair samples, the researchers use DNA analysis to identify individual bears.\n",
    "\n",
    "During the first session, on June 29, 1996, the researchers deployed traps at 76 sites.  Returning 10 days later, they obtained 1043 hair samples and identified 23 different bears.  During a second 10-day session they obtained 1191 samples from 19 different bears, where 4 of the 19 were from bears they had identified in the first batch.\n",
    "\n",
    "To estimate the population of bears from this data, we need a model for the probability that each bear will be observed during each session.  As a starting place, we'll make the simplest assumption, that every bear in the population has the same (unknown) probability of being sampled during each round.\n",
    "\n",
    "We also need a prior distribution for the population.  As a starting place, let's suppose that, prior to this study, an expert in this domain would have estimated that the population is between 100 and 500, and equally likely to be any value in that range."
   ]
  },
  {
   "cell_type": "code",
   "execution_count": 94,
   "metadata": {},
   "outputs": [
    {
     "data": {
      "image/png": "[encoded data removed]",
      "text/plain": [
       "<matplotlib.figure.Figure at 0x7f0bfc266b70>"
      ]
     },
     "metadata": {},
     "output_type": "display_data"
    }
   ],
   "source": [
    "#just once at the average population value\n",
    "[M,n,N] = [300, 23, 19]\n",
    "rv = hypergeom(M,n,N)\n",
    "x = np.arange(0,n+1)\n",
    "pmf_bears = rv.pmf(x)\n",
    "\n",
    "fig = plt.figure()\n",
    "ax = fig.add_subplot(111)\n",
    "ax.plot(x, pmf_bears, 'bo')\n",
    "ax.vlines(x, 0, pmf_bears, lw=2)\n",
    "ax.set_xlabel('# of already captured bears')\n",
    "ax.set_ylabel('hypergeom PMF')\n",
    "plt.show()\n"
   ]
  },
  {
   "cell_type": "code",
   "execution_count": 99,
   "metadata": {},
   "outputs": [
    {
     "data": {
      "text/plain": [
       "109"
      ]
     },
     "execution_count": 99,
     "metadata": {},
     "output_type": "execute_result"
    },
    {
     "data": {
      "image/png": "[encoded data removed]",
      "text/plain": [
       "<matplotlib.figure.Figure at 0x7f0bfcf73fd0>"
      ]
     },
     "metadata": {},
     "output_type": "display_data"
    }
   ],
   "source": [
    "# make the function for all populations\n",
    "prb = hypergeom.pmf(4, range(100,501),23,19)\n",
    "x = np.arange(100,501)\n",
    "\n",
    "#save as a pmf for the probabilities given the population\n",
    "bears = Pmf()\n",
    "\n",
    "for i in range(0,401):\n",
    "    pred = i + 100\n",
    "    bears[pred] = prb[i]\n",
    "    \n",
    "thinkplot.Pmf(bears)\n",
    "bears.MAP()"
   ]
  },
  {
   "cell_type": "markdown",
   "metadata": {},
   "source": [
    "# World Cup Part 2 "
   ]
  },
  {
   "cell_type": "markdown",
   "metadata": {},
   "source": [
    "In the final match of the 2014 FIFA World Cup, Germany defeated Argentina 1-0. How much evidence does this victory provide that Germany had the better team? What is the probability that Germany would win a rematch?"
   ]
  },
  {
   "cell_type": "code",
   "execution_count": 17,
   "metadata": {
    "collapsed": true
   },
   "outputs": [],
   "source": [
    "# goals per game in 2014 world cup found on https://www.economist.com/node/21603828\n",
    "xs = np.linspace(0, 8, 101)\n",
    "pmf_g = MakeGammaPmf(xs, 2.57)\n",
    "pmf_a = MakeGammaPmf(xs, 1.14)"
   ]
  },
  {
   "cell_type": "code",
   "execution_count": 18,
   "metadata": {
    "collapsed": true
   },
   "outputs": [],
   "source": [
    "class Soccer(Suite):\n",
    "    \"\"\"Represents hypotheses about goal-scoring rates.\"\"\"\n",
    "\n",
    "    def Likelihood(self, data, hypo):\n",
    "        \"\"\"Computes the likelihood of the data under the hypothesis.\n",
    "\n",
    "        hypo: scoring rate in goals per game\n",
    "        data: goals in game time interval\n",
    "        \"\"\"\n",
    "        lam = hypo\n",
    "        x = data/90\n",
    "        if data == 0:\n",
    "            x = 1\n",
    "        return lam * (math.exp(-lam*x))"
   ]
  },
  {
   "cell_type": "code",
   "execution_count": 19,
   "metadata": {
    "collapsed": true
   },
   "outputs": [],
   "source": [
    "argentina = Soccer(pmf_a)\n",
    "germany = Soccer(pmf_g)"
   ]
  },
  {
   "cell_type": "code",
   "execution_count": 20,
   "metadata": {},
   "outputs": [
    {
     "name": "stdout",
     "output_type": "stream",
     "text": [
      "1.1627609108450838 2.520809040899569\n"
     ]
    },
    {
     "data": {
      "image/png": "[encoded data removed]",
      "text/plain": [
       "<matplotlib.figure.Figure at 0x7f07a480a400>"
      ]
     },
     "metadata": {},
     "output_type": "display_data"
    }
   ],
   "source": [
    "thinkplot.Pdf(argentina)\n",
    "thinkplot.Pdf(germany)\n",
    "print(argentina.Mean(), germany.Mean())"
   ]
  },
  {
   "cell_type": "code",
   "execution_count": 21,
   "metadata": {},
   "outputs": [
    {
     "name": "stdout",
     "output_type": "stream",
     "text": [
      "1.0712363148766666 1.5826998480652419\n"
     ]
    },
    {
     "data": {
      "image/png": "[encoded data removed]",
      "text/plain": [
       "<matplotlib.figure.Figure at 0x7f07a4738470>"
      ]
     },
     "metadata": {},
     "output_type": "display_data"
    }
   ],
   "source": [
    "germany.Update(113)\n",
    "argentina.Update(0)\n",
    "thinkplot.Pdf(argentina)\n",
    "thinkplot.Pdf(germany)\n",
    "print(argentina.Mean(), germany.Mean())"
   ]
  },
  {
   "cell_type": "code",
   "execution_count": 22,
   "metadata": {},
   "outputs": [
    {
     "data": {
      "text/plain": [
       "0.6810062099577847"
      ]
     },
     "execution_count": 22,
     "metadata": {},
     "output_type": "execute_result"
    }
   ],
   "source": [
    "post_prob = germany.ProbGreater(argentina)\n",
    "post_prob"
   ]
  },
  {
   "cell_type": "code",
   "execution_count": 23,
   "metadata": {
    "collapsed": true
   },
   "outputs": [],
   "source": [
    "metapmf = Pmf()\n",
    "\n",
    "for lam, prob in argentina.Items():\n",
    "    lt = lam * 1\n",
    "    pred = MakePoissonPmf(lt, 15)\n",
    "    metapmf[pred] = prob\n",
    "    \n",
    "metapmf2 = Pmf()\n",
    "\n",
    "for lam, prob in germany.Items():\n",
    "    lt = lam * 1\n",
    "    pred = MakePoissonPmf(lt, 15)\n",
    "    metapmf2[pred] = prob"
   ]
  },
  {
   "cell_type": "code",
   "execution_count": 24,
   "metadata": {
    "collapsed": true
   },
   "outputs": [],
   "source": [
    "def MakeMixture(metapmf, label='mix'):\n",
    "    \"\"\"Make a mixture distribution.\n",
    "\n",
    "    Args:\n",
    "      metapmf: Pmf that maps from Pmfs to probs.\n",
    "      label: string label for the new Pmf.\n",
    "\n",
    "    Returns: Pmf object.\n",
    "    \"\"\"\n",
    "    mix = Pmf(label=label)\n",
    "    for pmf, p1 in metapmf.Items():\n",
    "        for x, p2 in pmf.Items():\n",
    "            mix[x] += p1 * p2\n",
    "    return mix"
   ]
  },
  {
   "cell_type": "code",
   "execution_count": 25,
   "metadata": {},
   "outputs": [
    {
     "data": {
      "image/png": "[encoded data removed]",
      "text/plain": [
       "<matplotlib.figure.Figure at 0x7f07a480a748>"
      ]
     },
     "metadata": {},
     "output_type": "display_data"
    }
   ],
   "source": [
    "mix = MakeMixture(metapmf)\n",
    "thinkplot.Hist(mix)"
   ]
  },
  {
   "cell_type": "code",
   "execution_count": 26,
   "metadata": {},
   "outputs": [
    {
     "data": {
      "image/png": "[encoded data removed]",
      "text/plain": [
       "<matplotlib.figure.Figure at 0x7f07a4740da0>"
      ]
     },
     "metadata": {},
     "output_type": "display_data"
    }
   ],
   "source": [
    "mix2 = MakeMixture(metapmf2)\n",
    "thinkplot.Hist(mix2)"
   ]
  },
  {
   "cell_type": "code",
   "execution_count": 27,
   "metadata": {},
   "outputs": [
    {
     "data": {
      "image/png": "[encoded data removed]",
      "text/plain": [
       "<matplotlib.figure.Figure at 0x7f07ac6c4b00>"
      ]
     },
     "metadata": {},
     "output_type": "display_data"
    }
   ],
   "source": [
    "thinkplot.Hist(mix2, width=0.45, align='right')\n",
    "thinkplot.Hist(mix, width=0.45, align='left')\n",
    "thinkplot.Config(xlabel='predicted # goals', ylabel='probability', xlim=[-0.5, 6])"
   ]
  },
  {
   "cell_type": "code",
   "execution_count": 28,
   "metadata": {},
   "outputs": [
    {
     "name": "stdout",
     "output_type": "stream",
     "text": [
      "posterior prob Germany wins rematch 0.4815813353082399\n",
      "posterior prob Argentina wins rematch 0.27316533115364744\n",
      "posterior prob tie 0.24525333353811263\n"
     ]
    }
   ],
   "source": [
    "win = mix2.ProbGreater(mix)\n",
    "lose = mix2.ProbLess(mix)\n",
    "tie = 1 - (win + lose)\n",
    "\n",
    "print('posterior prob Germany wins rematch', win)\n",
    "print('posterior prob Argentina wins rematch', lose)\n",
    "print('posterior prob tie', tie)"
   ]
  },
  {
   "cell_type": "markdown",
   "metadata": {},
   "source": [
    "# The Red Dice Problem"
   ]
  },
  {
   "cell_type": "markdown",
   "metadata": {},
   "source": [
    "Suppose I have a six-sided die that is red on 2 sides and blue on 4 sides, and another die that's the other way around, red on 4 sides and blue on 2.\n",
    " \n",
    "I choose a die at random and roll it, and I tell you it came up red. What is the probability that I rolled the second die (red on 4 sides)?  And if I do it again, what's the probability that I get red again?\n",
    "\n",
    "Note: This question is deliberately ambiguous.  What are the two possible scenarios, and what are the answers in each scenario?"
   ]
  },
  {
   "cell_type": "code",
   "execution_count": 29,
   "metadata": {},
   "outputs": [
    {
     "data": {
      "text/html": [
       "<div>\n",
       "<style scoped>\n",
       "    .dataframe tbody tr th:only-of-type {\n",
       "        vertical-align: middle;\n",
       "    }\n",
       "\n",
       "    .dataframe tbody tr th {\n",
       "        vertical-align: top;\n",
       "    }\n",
       "\n",
       "    .dataframe thead th {\n",
       "        text-align: right;\n",
       "    }\n",
       "</style>\n",
       "<table border=\"1\" class=\"dataframe\">\n",
       "  <thead>\n",
       "    <tr style=\"text-align: right;\">\n",
       "      <th></th>\n",
       "      <th>hypo</th>\n",
       "      <th>prior</th>\n",
       "      <th>likelihood</th>\n",
       "      <th>unnorm</th>\n",
       "      <th>posterior</th>\n",
       "    </tr>\n",
       "  </thead>\n",
       "  <tbody>\n",
       "    <tr>\n",
       "      <th>0</th>\n",
       "      <td>Dice 1</td>\n",
       "      <td>0.5</td>\n",
       "      <td>0.333333</td>\n",
       "      <td>0.166667</td>\n",
       "      <td>0.333333</td>\n",
       "    </tr>\n",
       "    <tr>\n",
       "      <th>1</th>\n",
       "      <td>Dice 2</td>\n",
       "      <td>0.5</td>\n",
       "      <td>0.666667</td>\n",
       "      <td>0.333333</td>\n",
       "      <td>0.666667</td>\n",
       "    </tr>\n",
       "  </tbody>\n",
       "</table>\n",
       "</div>"
      ],
      "text/plain": [
       "     hypo  prior  likelihood    unnorm  posterior\n",
       "0  Dice 1    0.5    0.333333  0.166667   0.333333\n",
       "1  Dice 2    0.5    0.666667  0.333333   0.666667"
      ]
     },
     "execution_count": 29,
     "metadata": {},
     "output_type": "execute_result"
    }
   ],
   "source": [
    "red_dice = BayesTable(['Dice 1', 'Dice 2'], [0.5,0.5])\n",
    "red_dice.likelihood = [2/6, 4/6]\n",
    "red_dice.update()\n",
    "red_dice"
   ]
  },
  {
   "cell_type": "code",
   "execution_count": 30,
   "metadata": {},
   "outputs": [
    {
     "data": {
      "text/plain": [
       "0.3333333333333333"
      ]
     },
     "execution_count": 30,
     "metadata": {},
     "output_type": "execute_result"
    }
   ],
   "source": [
    "# if roll again - this is the p(next) of red\n",
    "p_next = (1/3)*(2/6) + (2/6)*(4/6)\n",
    "p_next"
   ]
  },
  {
   "cell_type": "markdown",
   "metadata": {},
   "source": [
    "# World Cup Final Betting"
   ]
  },
  {
   "cell_type": "markdown",
   "metadata": {},
   "source": [
    "Knowing that Croatia and France are playing the Fifa World Cup final, you are betting with your friends at a bar. Which team and which goal difference should you bet on initially? "
   ]
  },
  {
   "cell_type": "code",
   "execution_count": 31,
   "metadata": {
    "collapsed": true
   },
   "outputs": [],
   "source": [
    "# goals per game in 2014 world cup found on https://www.fifa.com/worldcup/teams/team/43946/ w/0 final score\n",
    "xs = np.linspace(0, 8, 101)\n",
    "pmf_c = MakeGammaPmf(xs, 2)\n",
    "pmf_f = MakeGammaPmf(xs, 1.7)"
   ]
  },
  {
   "cell_type": "code",
   "execution_count": 32,
   "metadata": {
    "collapsed": true
   },
   "outputs": [],
   "source": [
    "croatia = Soccer(pmf_c)\n",
    "france = Soccer(pmf_f)"
   ]
  },
  {
   "cell_type": "code",
   "execution_count": 33,
   "metadata": {},
   "outputs": [
    {
     "name": "stdout",
     "output_type": "stream",
     "text": [
      "1.9801660290552032 1.6913931948892005\n"
     ]
    },
    {
     "data": {
      "image/png": "[encoded data removed]",
      "text/plain": [
       "<matplotlib.figure.Figure at 0x7f07a49768d0>"
      ]
     },
     "metadata": {},
     "output_type": "display_data"
    }
   ],
   "source": [
    "thinkplot.Pdf(croatia)\n",
    "thinkplot.Pdf(france)\n",
    "print(croatia.Mean(), france.Mean())"
   ]
  },
  {
   "cell_type": "code",
   "execution_count": 34,
   "metadata": {
    "collapsed": true
   },
   "outputs": [],
   "source": [
    "metapmf_c = Pmf()\n",
    "\n",
    "for lam, prob in croatia.Items():\n",
    "    lt = lam * 1\n",
    "    pred = MakePoissonPmf(lt, 15)\n",
    "    metapmf_c[pred] = prob\n",
    "    \n",
    "mixc = MakeMixture(metapmf_c)\n",
    "\n",
    "metapmf_f = Pmf()\n",
    "\n",
    "for lam, prob in france.Items():\n",
    "    lt = lam * 1\n",
    "    pred = MakePoissonPmf(lt, 15)\n",
    "    metapmf_f[pred] = prob\n",
    "    \n",
    "mixf = MakeMixture(metapmf_f)"
   ]
  },
  {
   "cell_type": "code",
   "execution_count": 35,
   "metadata": {},
   "outputs": [
    {
     "data": {
      "image/png": "[encoded data removed]",
      "text/plain": [
       "<matplotlib.figure.Figure at 0x7f07a484dd30>"
      ]
     },
     "metadata": {},
     "output_type": "display_data"
    }
   ],
   "source": [
    "thinkplot.Hist(mixc, width=0.45, align='right')\n",
    "thinkplot.Hist(mixf, width=0.45, align='left')\n",
    "thinkplot.Config(xlabel='predicted # goals', ylabel='probability', xlim=[-0.5, 6])"
   ]
  },
  {
   "cell_type": "code",
   "execution_count": 36,
   "metadata": {},
   "outputs": [
    {
     "name": "stdout",
     "output_type": "stream",
     "text": [
      "croatia win 0.44630663014375005\n",
      "croatia lose 0.35643693441218693\n",
      "tie 0.19725643544406302\n"
     ]
    }
   ],
   "source": [
    "win = mixc.ProbGreater(mixf)\n",
    "lose = mixc.ProbLess(mixf)\n",
    "tie = 1 - (win + lose)\n",
    "\n",
    "print('croatia win', win)\n",
    "print('croatia lose', lose)\n",
    "print('tie', tie)"
   ]
  },
  {
   "cell_type": "markdown",
   "metadata": {},
   "source": [
    "Initially bet on Croatia to win and have a goal difference of 1"
   ]
  },
  {
   "cell_type": "markdown",
   "metadata": {},
   "source": [
    "How about at halftime?"
   ]
  },
  {
   "cell_type": "code",
   "execution_count": 37,
   "metadata": {},
   "outputs": [
    {
     "data": {
      "text/plain": [
       "0.8888738594208544"
      ]
     },
     "execution_count": 37,
     "metadata": {},
     "output_type": "execute_result"
    }
   ],
   "source": [
    "france.Update(18)\n",
    "france.Update(20)\n",
    "croatia.Update(28)"
   ]
  },
  {
   "cell_type": "code",
   "execution_count": 38,
   "metadata": {},
   "outputs": [
    {
     "name": "stdout",
     "output_type": "stream",
     "text": [
      "2.276316291900055 2.586523260927228\n"
     ]
    },
    {
     "data": {
      "image/png": "[encoded data removed]",
      "text/plain": [
       "<matplotlib.figure.Figure at 0x7f07a469e278>"
      ]
     },
     "metadata": {},
     "output_type": "display_data"
    }
   ],
   "source": [
    "thinkplot.Pdf(croatia)\n",
    "thinkplot.Pdf(france)\n",
    "print(croatia.Mean(), france.Mean())"
   ]
  },
  {
   "cell_type": "code",
   "execution_count": 39,
   "metadata": {
    "collapsed": true
   },
   "outputs": [],
   "source": [
    "metapmf_c = Pmf()\n",
    "\n",
    "for lam, prob in croatia.Items():\n",
    "    lt = lam * 1\n",
    "    pred = MakePoissonPmf(lt, 15)\n",
    "    metapmf_c[pred] = prob\n",
    "    \n",
    "mixc = MakeMixture(metapmf_c)\n",
    "\n",
    "metapmf_f = Pmf()\n",
    "\n",
    "for lam, prob in france.Items():\n",
    "    lt = lam * 1\n",
    "    pred = MakePoissonPmf(lt, 15)\n",
    "    metapmf_f[pred] = prob\n",
    "    \n",
    "mixf = MakeMixture(metapmf_f)"
   ]
  },
  {
   "cell_type": "code",
   "execution_count": 40,
   "metadata": {},
   "outputs": [
    {
     "data": {
      "image/png": "[encoded data removed]",
      "text/plain": [
       "<matplotlib.figure.Figure at 0x7f07a467c438>"
      ]
     },
     "metadata": {},
     "output_type": "display_data"
    }
   ],
   "source": [
    "thinkplot.Hist(mixc, width=0.45, align='right')\n",
    "thinkplot.Hist(mixf, width=0.45, align='left')\n",
    "thinkplot.Config(xlabel='predicted # goals', ylabel='probability', xlim=[-0.5, 6])"
   ]
  },
  {
   "cell_type": "code",
   "execution_count": 41,
   "metadata": {},
   "outputs": [
    {
     "name": "stdout",
     "output_type": "stream",
     "text": [
      "croatia win 0.3742047988317069\n",
      "croatia lose 0.46593732295018264\n",
      "tie 0.15985787821811048\n"
     ]
    }
   ],
   "source": [
    "win = mixc.ProbGreater(mixf)\n",
    "lose = mixc.ProbLess(mixf)\n",
    "tie = 1 - (win + lose)\n",
    "\n",
    "print('croatia win', win)\n",
    "print('croatia lose', lose)\n",
    "print('tie', tie)"
   ]
  },
  {
   "cell_type": "markdown",
   "metadata": {},
   "source": [
    "May be worth changing over to france winning by one goal"
   ]
  }
 ],
 "metadata": {
  "kernelspec": {
   "display_name": "Python 3",
   "language": "python",
   "name": "python3"
  },
  "language_info": {
   "codemirror_mode": {
    "name": "ipython",
    "version": 3
   },
   "file_extension": ".py",
   "mimetype": "text/x-python",
   "name": "python",
   "nbconvert_exporter": "python",
   "pygments_lexer": "ipython3",
   "version": "3.6.3"
  }
 },
 "nbformat": 4,
 "nbformat_minor": 1
}
