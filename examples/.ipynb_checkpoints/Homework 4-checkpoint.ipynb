{
 "cells": [
  {
   "cell_type": "markdown",
   "metadata": {},
   "source": [
    "# Camille Girard Think Bayes Homework 4\n",
    "\n",
    "This notebook presents example code and exercise solutions for Think Bayes.\n",
    "\n",
    "Camille Girard\n",
    "\n",
    "MIT License: https://opensource.org/licenses/MIT"
   ]
  },
  {
   "cell_type": "code",
   "execution_count": 62,
   "metadata": {},
   "outputs": [
    {
     "name": "stderr",
     "output_type": "stream",
     "text": [
      "ERROR:root:The 'ast_node_interactivity' trait of a ZMQInteractiveShell instance must be any of ['all', 'last', 'last_expr', 'none'], but a value of 'last_expr_or_assign' <class 'str'> was specified.\n"
     ]
    }
   ],
   "source": [
    "# Configure Jupyter so figures appear in the notebook\n",
    "%matplotlib inline\n",
    "\n",
    "# Configure Jupyter to display the assigned value after an assignment\n",
    "%config InteractiveShell.ast_node_interactivity='last_expr_or_assign'\n",
    "\n",
    "# import classes from thinkbayes2\n",
    "from thinkbayes2 import Pmf, Suite, Beta, MakeGammaPmf, MakeJoint, Joint\n",
    "import thinkbayes2\n",
    "\n",
    "import matplotlib.pyplot as plt\n",
    "import thinkplot\n",
    "import pandas as pd\n",
    "import numpy as np\n",
    "from scipy.stats import norm, hypergeom\n",
    "import math\n",
    "from thinkbayes2 import MakePoissonPmf\n",
    "\n",
    "class BayesTable(pd.DataFrame):\n",
    "    def __init__(self, hypo, prior=1):\n",
    "        columns = ['hypo', 'prior', 'likelihood', 'unnorm', 'posterior']\n",
    "        super().__init__(columns=columns)\n",
    "        self.hypo = hypo\n",
    "        self.prior = prior\n",
    "    \n",
    "    def mult(self):\n",
    "        self.unnorm = self.prior * self.likelihood\n",
    "        \n",
    "    def norm(self):\n",
    "        nc = np.sum(self.unnorm)\n",
    "        self.posterior = self.unnorm / nc\n",
    "        return nc\n",
    "    \n",
    "    def update(self):\n",
    "        self.mult()\n",
    "        return self.norm()\n",
    "    \n",
    "    def reset(self):\n",
    "        return BayesTable(self.hypo, self.posterior)"
   ]
  },
  {
   "cell_type": "markdown",
   "metadata": {
    "collapsed": true
   },
   "source": [
    "# One More Height Problem"
   ]
  },
  {
   "cell_type": "markdown",
   "metadata": {},
   "source": [
    "In a room of 10 randomly chosen U.S. residents, A is the second tallest.  How tall is A?  What is the probability that A is male?"
   ]
  },
  {
   "cell_type": "code",
   "execution_count": 63,
   "metadata": {
    "scrolled": true
   },
   "outputs": [
    {
     "data": {
      "image/png": "[encoded data removed]",
      "text/plain": [
       "<matplotlib.figure.Figure at 0x7f512ee3c2b0>"
      ]
     },
     "metadata": {},
     "output_type": "display_data"
    }
   ],
   "source": [
    "dist_height = dict(male=norm(178, 7.7), female=norm(163, 7.3))\n",
    "heights = np.linspace(130, 210)\n",
    "prob_m = dist_height['male'].pdf(heights)\n",
    "prob_f = dist_height['female'].pdf(heights)\n",
    "m_pmf = Pmf(dict(zip(heights, prob_m)))\n",
    "f_pmf = Pmf(dict(zip(heights, prob_f)))\n",
    "metapmf = Pmf([m_pmf,f_pmf])\n",
    "mix = thinkbayes2.MakeMixture(metapmf)\n",
    "thinkplot.Pdf(mix)"
   ]
  },
  {
   "cell_type": "code",
   "execution_count": 64,
   "metadata": {
    "collapsed": true
   },
   "outputs": [],
   "source": [
    "class Height(Suite, Joint):\n",
    "    \n",
    "    def Likelihood(self, data, hypo):\n",
    "        \"\"\"\n",
    "        \n",
    "        data: who is taller, 'A' or 'B'?\n",
    "        hypo: h1, h2\n",
    "        \"\"\"\n",
    "        h1, h2 = hypo\n",
    "        if data == 'A':\n",
    "            return 1 if h1 > h2 else 0\n",
    "        else:\n",
    "            return 1 if h2 > h1 else 0\n",
    "\n",
    "def make_prior(A, B):\n",
    "    suite = Height()\n",
    "\n",
    "    for h1, p1 in A.Items():\n",
    "        for h2, p2 in B.Items():\n",
    "            suite[h1, h2] = p1 * p2\n",
    "    return suite"
   ]
  },
  {
   "cell_type": "code",
   "execution_count": 65,
   "metadata": {
    "collapsed": true
   },
   "outputs": [],
   "source": [
    "A = mix\n",
    "B = mix\n",
    "def taller(person1, person2, difference):\n",
    "    joint = make_prior(person1, person2)\n",
    "    joint.Update(difference)\n",
    "    return joint.Marginal(0), joint.Marginal(1)"
   ]
  },
  {
   "cell_type": "code",
   "execution_count": 66,
   "metadata": {
    "collapsed": true
   },
   "outputs": [],
   "source": [
    "for i in range(8):\n",
    "    A, _ = taller(A, B, 'A')\n",
    "    \n",
    "A, B = taller(A, B, 'B');"
   ]
  },
  {
   "cell_type": "code",
   "execution_count": 67,
   "metadata": {},
   "outputs": [
    {
     "data": {
      "text/plain": [
       "181.74226142591198"
      ]
     },
     "execution_count": 67,
     "metadata": {},
     "output_type": "execute_result"
    },
    {
     "data": {
      "image/png": "[encoded data removed]",
      "text/plain": [
       "<matplotlib.figure.Figure at 0x7f512b5cedd8>"
      ]
     },
     "metadata": {},
     "output_type": "display_data"
    }
   ],
   "source": [
    "thinkplot.Pdf(A)\n",
    "A.Mean()"
   ]
  },
  {
   "cell_type": "code",
   "execution_count": 68,
   "metadata": {
    "collapsed": true
   },
   "outputs": [],
   "source": [
    "class H(Suite): \n",
    "    def Likelihood(self, data, hypo):\n",
    "        \"\"\"\n",
    "        data: height in cm\n",
    "        hypo: 'male' or 'female'\n",
    "        \"\"\"\n",
    "        height = data\n",
    "        return dist_height[hypo].pdf(height)\n",
    "    \n",
    "def prob_male(height):\n",
    "    suite = H(dict(male=0.49, female=0.51))\n",
    "    suite.Update(height)\n",
    "    return suite['male']"
   ]
  },
  {
   "cell_type": "code",
   "execution_count": 69,
   "metadata": {},
   "outputs": [
    {
     "data": {
      "text/plain": [
       "0.9197862123801361"
      ]
     },
     "execution_count": 69,
     "metadata": {},
     "output_type": "execute_result"
    }
   ],
   "source": [
    "male_prob = 0\n",
    "for h, prob in A.Items():\n",
    "    male_prob += prob * prob_male(h)\n",
    "male_prob"
   ]
  },
  {
   "cell_type": "markdown",
   "metadata": {},
   "source": [
    "# Lincoln Index Problem"
   ]
  },
  {
   "cell_type": "markdown",
   "metadata": {},
   "source": [
    "Read How many errors are left to find?, and write a Bayesian solution to this problem:\n",
    "\n",
    "Suppose two testers independently search for bugs. Let k1 be the number of errors the first tester finds and k2 the number of errors the second tester finds. Let c be the number of errors both testers find.  [I changed Cook's notation to be consistent with mine].\n",
    "\n",
    "For concreteness, suppose the first tester finds 20 bugs, the second finds 15, and they find 3 in common.\n",
    "\n",
    "Compare your solution to the Lincoln Index, which estimates the total number of errors as k1 k2 / c."
   ]
  },
  {
   "cell_type": "code",
   "execution_count": 70,
   "metadata": {},
   "outputs": [
    {
     "data": {
      "text/plain": [
       "(110.0, 100)"
      ]
     },
     "execution_count": 70,
     "metadata": {},
     "output_type": "execute_result"
    },
    {
     "data": {
      "image/png": "[encoded data removed]",
      "text/plain": [
       "<matplotlib.figure.Figure at 0x7f512b6529e8>"
      ]
     },
     "metadata": {},
     "output_type": "display_data"
    }
   ],
   "source": [
    "prb = hypergeom.pmf(3,range(20,201),20,15);\n",
    "x = np.arange(20,201);\n",
    "\n",
    "bugs = Pmf();\n",
    "\n",
    "for i in range(0,181):\n",
    "    pred = i + 20\n",
    "    bugs[pred] = prb[i]\n",
    "\n",
    "thinkplot.Pmf(bugs)\n",
    "np.mean(bugs), bugs.MAP()"
   ]
  },
  {
   "cell_type": "code",
   "execution_count": 71,
   "metadata": {},
   "outputs": [
    {
     "data": {
      "text/plain": [
       "100.0"
      ]
     },
     "execution_count": 71,
     "metadata": {},
     "output_type": "execute_result"
    }
   ],
   "source": [
    "lincoln = (20*15)/3\n",
    "lincoln"
   ]
  },
  {
   "cell_type": "markdown",
   "metadata": {},
   "source": [
    "# The Skeet Problem"
   ]
  },
  {
   "cell_type": "markdown",
   "metadata": {},
   "source": [
    "At the 2016 Summer Olympics in the Women's Skeet event, Kim Rhode faced Wei Meng in the bronze medal match. They each hit 15 of 25 skeets, sending the match into sudden death. In the first round, both hit 1 of 2 skeets. In the next two rounds, they each hit 2 skeets. Finally, in the fourth round, Rhode hit 2 and Wei hit 1, so Rhode won the bronze medal, making her the first Summer Olympian to win an individual medal at six consecutive summer games.\n",
    "\n",
    "But after all that shooting, what is the probability that Rhode is actually a better shooter than Wei? If the same match were held again, what is the probability that Rhode would win?\n",
    "\n",
    "As always, you will have to make some modeling decisions, but one approach is to estimate, for each shooter, the probability of hitting a skeet. Then, to estimate the probability that Rhode is a better shooter, you can draw samples from the two posterior distributions and compare them. To estimate the probability of winning a rematch, you could draw samples from the posterior distributions and simulate a round of 25 shots."
   ]
  },
  {
   "cell_type": "code",
   "execution_count": 72,
   "metadata": {
    "collapsed": true
   },
   "outputs": [],
   "source": [
    "Rhode = Beta(1,1)\n",
    "Rhode.Update((22,11))\n",
    "Wei = Beta(1,1)\n",
    "Wei.Update((21,12))"
   ]
  },
  {
   "cell_type": "code",
   "execution_count": 73,
   "metadata": {},
   "outputs": [
    {
     "data": {
      "image/png": "[encoded data removed]",
      "text/plain": [
       "<matplotlib.figure.Figure at 0x7f512b652748>"
      ]
     },
     "metadata": {},
     "output_type": "display_data"
    }
   ],
   "source": [
    "thinkplot.Pdf(Wei.MakePmf())\n",
    "thinkplot.Pdf(Rhode.MakePmf())"
   ]
  },
  {
   "cell_type": "code",
   "execution_count": 74,
   "metadata": {},
   "outputs": [
    {
     "data": {
      "text/plain": [
       "0.600456"
      ]
     },
     "execution_count": 74,
     "metadata": {},
     "output_type": "execute_result"
    }
   ],
   "source": [
    "# Is Rhodes Better?\n",
    "r_sample = Rhode.MakeCdf(1000000).Sample(1000000)\n",
    "w_sample = Wei.MakeCdf(1000000).Sample(1000000)\n",
    "r_better = np.mean(r_sample > w_sample)\n",
    "r_better"
   ]
  },
  {
   "cell_type": "markdown",
   "metadata": {},
   "source": [
    "Once the shots are taken into account with an even prior the probability of Rhodes being a better skeet shooter than Wei is between 59 and 60 percent - closer to 60"
   ]
  },
  {
   "cell_type": "code",
   "execution_count": 75,
   "metadata": {},
   "outputs": [
    {
     "data": {
      "image/png": "[encoded data removed]",
      "text/plain": [
       "<matplotlib.figure.Figure at 0x7f512b838e48>"
      ]
     },
     "metadata": {},
     "output_type": "display_data"
    }
   ],
   "source": [
    "r_rematch = np.random.binomial(25, r_sample)\n",
    "w_rematch = np.random.binomial(25,w_sample)\n",
    "thinkplot.Hist(Pmf(r_rematch), width=0.45, align='right')\n",
    "thinkplot.Hist(Pmf(w_rematch), width=0.45, align='left')"
   ]
  },
  {
   "cell_type": "code",
   "execution_count": 76,
   "metadata": {},
   "outputs": [
    {
     "data": {
      "text/plain": [
       "(0.520108, 0.089365, 0.390527)"
      ]
     },
     "execution_count": 76,
     "metadata": {},
     "output_type": "execute_result"
    }
   ],
   "source": [
    "#Will Rhodes win a rematch?\n",
    "r_win = np.mean(r_rematch > w_rematch)\n",
    "r_tie = np.mean(r_rematch == w_rematch)\n",
    "r_lose = np.mean(r_rematch < w_rematch)\n",
    "r_win, r_tie, r_lose"
   ]
  },
  {
   "cell_type": "markdown",
   "metadata": {},
   "source": [
    "Rhodes has a 52 percent chance of winning a rematch against Wei and a 9 percent chance of a tie (meaning 39 percent chance of losing)"
   ]
  },
  {
   "cell_type": "markdown",
   "metadata": {},
   "source": [
    "# The Social Desireability Problem"
   ]
  },
  {
   "cell_type": "markdown",
   "metadata": {},
   "source": [
    "Whenever you survey people about sensitive issues, you have to deal with social desirability bias, which is the tendency of people to shade their answers in the direction they think shows them in the most positive light.\n",
    "\n",
    "One of the ways to improve the quality of the results is to collect responses in indirect ways.  For example, here's a clever way one research group estimated the prevalence of atheists.\n",
    "\n",
    "Another way is \"randomized response\", as described in this article or this video (if you can stand it).\n",
    "\n",
    "As an example, suppose you ask 100 people to flip a coin and:\n",
    "\n",
    "If they get heads, they report YES.\n",
    "If they get tails, then honestly answer the question \"Do you believe in God?\"\n",
    "\n",
    "And suppose you get 80 YESes and 20 NOs.\n",
    "\n",
    "Estimate the prevalence of atheists in the surveyed population (by which, as always, I mean compute a posterior distribution).\n"
   ]
  },
  {
   "cell_type": "code",
   "execution_count": 77,
   "metadata": {},
   "outputs": [
    {
     "data": {
      "image/png": "[encoded data removed]",
      "text/plain": [
       "<matplotlib.figure.Figure at 0x7f512b701d68>"
      ]
     },
     "metadata": {},
     "output_type": "display_data"
    }
   ],
   "source": [
    "binomial = thinkbayes2.MakeBinomialPmf(100, 0.5)\n",
    "thinkplot.plot(binomial)"
   ]
  },
  {
   "cell_type": "code",
   "execution_count": 83,
   "metadata": {},
   "outputs": [],
   "source": [
    "class trial(Suite): \n",
    "    def Likelihood(self, data, hypo):\n",
    "        \"\"\"\n",
    "        hypo : who believes in god\n",
    "        data : how many said yes \n",
    "        \"\"\"\n",
    "        total = 0\n",
    "        for num, p in binomial.Items():\n",
    "            if data < num:\n",
    "                total += 0\n",
    "            else:\n",
    "                fraction = (data - num) / (100-num)\n",
    "                if round(fraction * 100)== hypo:\n",
    "                    total += p\n",
    "                else:\n",
    "                    total += 0\n",
    "        return total"
   ]
  },
  {
   "cell_type": "code",
   "execution_count": 84,
   "metadata": {},
   "outputs": [
    {
     "data": {
      "text/plain": [
       "(62, 59.61545373512311)"
      ]
     },
     "execution_count": 84,
     "metadata": {},
     "output_type": "execute_result"
    },
    {
     "data": {
      "image/png": "[encoded data removed]",
      "text/plain": [
       "<matplotlib.figure.Figure at 0x7f512b786c88>"
      ]
     },
     "metadata": {},
     "output_type": "display_data"
    }
   ],
   "source": [
    "people = trial(range(0,101))\n",
    "people.Update(80)\n",
    "thinkplot.Hist(people)\n",
    "people.MAP(), people.Mean()"
   ]
  },
  {
   "cell_type": "markdown",
   "metadata": {},
   "source": [
    "# Volunteer Problem"
   ]
  },
  {
   "cell_type": "markdown",
   "metadata": {
    "collapsed": true
   },
   "source": [
    "This comes from a participant at a Bayesian workshop I ran years ago:\n",
    "\n",
    "\"A group of people sign up to do a community service project.  Some fraction of them actually participate, and then some fraction of the participants report back to confirm.  In other words, some of the people who sign up don't participate, and some of the people that participate don't report back.\n",
    "\n",
    "Given the number of people who sign up and the number of people who report back, can we estimate the number of people who actually participated?\"\n",
    "\n",
    "One way to model this scenario is to say that each person who signs up has a probability, q, of participating and a probability, r, of reporting back.  (Let's assume that if someone does not participate, they don't report that they did.) \n",
    "\n",
    "Suppose 140 people sign up and only 50 report back.  With this data we can compute posterior distributions for q and r, but we can't distinguish between them.\n",
    "\n",
    "But support we call 5 people who signed up and learn that 3 of them participated and 1 reported back.  How can we combine the data from these two sources to estimate the distributions of q and r?\n",
    "\n",
    "And how do we use those distributions to estimate the number of people who participated?"
   ]
  },
  {
   "cell_type": "code",
   "execution_count": 16,
   "metadata": {
    "collapsed": true
   },
   "outputs": [],
   "source": [
    "class volunteer(Suite):\n",
    "    def Likelihood(self,data,hypo):\n",
    "        if len(data) == 2:\n",
    "            return self.Likelihood_a(data,hypo)\n",
    "        elif len(data) ==3:\n",
    "            return self.Likelihood_b(data,hypo)\n",
    "    def Likelihood_a(self,data,hypo):\n",
    "        q, r = hypo\n",
    "        p = q*r\n",
    "        sign, report = data\n",
    "        yes = report\n",
    "        no = sign - report \n",
    "        like = p**yes * (1-p)**no\n",
    "        return like\n",
    "    def Likelihood_b(self,data,hypo):\n",
    "        q,r = hypo\n",
    "        sign, participate, report = data\n",
    "        yes = participate\n",
    "        no = sign - participate\n",
    "        like_a = q**yes * (1-q)**no\n",
    "        yes2 = report\n",
    "        no2 = participate - report\n",
    "        like_b = r**yes * (1-r)**no\n",
    "        return like_a*like_b"
   ]
  },
  {
   "cell_type": "code",
   "execution_count": 17,
   "metadata": {
    "collapsed": true
   },
   "outputs": [],
   "source": [
    "probs = np.linspace(0,1,101)\n",
    "hypos = []\n",
    "for q in probs:\n",
    "    for r in probs:\n",
    "        hypos.append((q,r))\n",
    "vol = volunteer(hypos)\n",
    "data1 = 140,50\n",
    "data2 = 5,3,1\n",
    "vol.Update(data1)\n",
    "vol.Update(data2);"
   ]
  },
  {
   "cell_type": "code",
   "execution_count": 18,
   "metadata": {
    "collapsed": true
   },
   "outputs": [],
   "source": [
    "q = thinkbayes2.Pmf()\n",
    "r = thinkbayes2.Pmf()\n",
    "for t, prob in vol.Items():\n",
    "    q.Incr(t[0],prob)\n",
    "    r.Incr(t[1],prob)"
   ]
  },
  {
   "cell_type": "code",
   "execution_count": 19,
   "metadata": {},
   "outputs": [
    {
     "data": {
      "image/png": "[encoded data removed]",
      "text/plain": [
       "<matplotlib.figure.Figure at 0x7f512cc6cf28>"
      ]
     },
     "metadata": {},
     "output_type": "display_data"
    }
   ],
   "source": [
    "thinkplot.Pmf(q, label='q')\n",
    "thinkplot.Pmf(r, label = 'r')"
   ]
  },
  {
   "cell_type": "code",
   "execution_count": 20,
   "metadata": {},
   "outputs": [
    {
     "data": {
      "text/plain": [
       "84.924835886342"
      ]
     },
     "execution_count": 20,
     "metadata": {},
     "output_type": "execute_result"
    }
   ],
   "source": [
    "total = 0\n",
    "for p,prob in q.Items():\n",
    "    total += 140*p*prob\n",
    "total"
   ]
  },
  {
   "cell_type": "markdown",
   "metadata": {},
   "source": [
    "# Project Ideas"
   ]
  },
  {
   "cell_type": "markdown",
   "metadata": {
    "collapsed": true
   },
   "source": [
    "### Trees\n",
    "   \n",
    "A problem could be around the idea of age of a tree based on size instead of by ring. This could include developing distributions based on tree size and on age of the tree based on the opposite using the data. Data from other trees could be collected and could use the distributions to find the age. The trees would have to be from the same species.\n",
    "\n",
    "Data : https://dasl.datadescription.com/datafile/how-old-is-that-tree/?_sf_s=tree&_sfm_cases=4+59943\n"
   ]
  },
  {
   "cell_type": "markdown",
   "metadata": {},
   "source": [
    "### Crocodile Lengths\n",
    "\n",
    "A problem using the length of the body and the head of an animal and a dataset to make a distribution to find which species the crocidile is likely from. \n",
    "\n",
    "Data: https://dasl.datadescription.com/datafile/crocodile-lengths/?_sf_s=animal&_sfm_cases=4+59943"
   ]
  }
 ],
 "metadata": {
  "kernelspec": {
   "display_name": "Python 3",
   "language": "python",
   "name": "python3"
  },
  "language_info": {
   "codemirror_mode": {
    "name": "ipython",
    "version": 3
   },
   "file_extension": ".py",
   "mimetype": "text/x-python",
   "name": "python",
   "nbconvert_exporter": "python",
   "pygments_lexer": "ipython3",
   "version": "3.6.3"
  }
 },
 "nbformat": 4,
 "nbformat_minor": 1
}
