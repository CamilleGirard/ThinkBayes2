{
 "cells": [
  {
   "cell_type": "markdown",
   "metadata": {},
   "source": [
    "# Camille Girard Think Bayes Homework 4\n",
    "\n",
    "This notebook presents example code and exercise solutions for Think Bayes.\n",
    "\n",
    "Camille Girard\n",
    "\n",
    "MIT License: https://opensource.org/licenses/MIT"
   ]
  },
  {
   "cell_type": "code",
   "execution_count": 28,
   "metadata": {},
   "outputs": [
    {
     "name": "stderr",
     "output_type": "stream",
     "text": [
      "ERROR:root:The 'ast_node_interactivity' trait of a ZMQInteractiveShell instance must be any of ['all', 'last', 'last_expr', 'none'], but a value of 'last_expr_or_assign' <class 'str'> was specified.\n"
     ]
    }
   ],
   "source": [
    "# Configure Jupyter so figures appear in the notebook\n",
    "%matplotlib inline\n",
    "\n",
    "# Configure Jupyter to display the assigned value after an assignment\n",
    "%config InteractiveShell.ast_node_interactivity='last_expr_or_assign'\n",
    "\n",
    "# import classes from thinkbayes2\n",
    "from thinkbayes2 import Pmf, Suite, Beta, MakeGammaPmf, MakeJoint\n",
    "import thinkbayes2\n",
    "\n",
    "import matplotlib.pyplot as plt\n",
    "import thinkplot\n",
    "import pandas as pd\n",
    "import numpy as np\n",
    "from scipy.stats import norm, hypergeom\n",
    "import math\n",
    "from thinkbayes2 import MakePoissonPmf\n",
    "\n",
    "class BayesTable(pd.DataFrame):\n",
    "    def __init__(self, hypo, prior=1):\n",
    "        columns = ['hypo', 'prior', 'likelihood', 'unnorm', 'posterior']\n",
    "        super().__init__(columns=columns)\n",
    "        self.hypo = hypo\n",
    "        self.prior = prior\n",
    "    \n",
    "    def mult(self):\n",
    "        self.unnorm = self.prior * self.likelihood\n",
    "        \n",
    "    def norm(self):\n",
    "        nc = np.sum(self.unnorm)\n",
    "        self.posterior = self.unnorm / nc\n",
    "        return nc\n",
    "    \n",
    "    def update(self):\n",
    "        self.mult()\n",
    "        return self.norm()\n",
    "    \n",
    "    def reset(self):\n",
    "        return BayesTable(self.hypo, self.posterior)"
   ]
  },
  {
   "cell_type": "markdown",
   "metadata": {
    "collapsed": true
   },
   "source": [
    "# One More Height Problem"
   ]
  },
  {
   "cell_type": "markdown",
   "metadata": {},
   "source": [
    "In a room of 10 randomly chosen U.S. residents, A is the second tallest.  How tall is A?  What is the probability that A is male?"
   ]
  },
  {
   "cell_type": "code",
   "execution_count": 29,
   "metadata": {},
   "outputs": [
    {
     "data": {
      "image/png": "[encoded data removed]",
      "text/plain": [
       "<matplotlib.figure.Figure at 0x7fc96df985f8>"
      ]
     },
     "metadata": {},
     "output_type": "display_data"
    }
   ],
   "source": [
    "dist_height = dict(male=norm(178, 7.7), female=norm(163, 7.3))\n",
    "heights = np.linspace(130, 210)\n",
    "prob_m = dist_height['male'].pdf(heights)\n",
    "prob_f = dist_height['female'].pdf(heights)\n",
    "m_pmf = Pmf(dict(zip(heights, prob_m)))\n",
    "f_pmf = Pmf(dict(zip(heights, prob_f)))\n",
    "metapmf = Pmf([m_pmf,f_pmf])\n",
    "mix = thinkbayes2.MakeMixture(metapmf)\n",
    "thinkplot.Pdf(mix)"
   ]
  },
  {
   "cell_type": "code",
   "execution_count": 30,
   "metadata": {},
   "outputs": [
    {
     "data": {
      "text/plain": [
       "182.24489795918367"
      ]
     },
     "execution_count": 30,
     "metadata": {},
     "output_type": "execute_result"
    },
    {
     "data": {
      "image/png": "[encoded data removed]",
      "text/plain": [
       "<matplotlib.figure.Figure at 0x7fc96d352f60>"
      ]
     },
     "metadata": {},
     "output_type": "display_data"
    }
   ],
   "source": [
    "sampled = Pmf()\n",
    "for i in range(1000000):\n",
    "    group = mix.Sample(10)\n",
    "    group.sort()\n",
    "    h = group[8]\n",
    "    prob = mix[h]\n",
    "    sampled[h] = prob\n",
    "    \n",
    "thinkplot.Pdf(sampled)\n",
    "average = np.mean(sampled)\n",
    "average"
   ]
  },
  {
   "cell_type": "code",
   "execution_count": 31,
   "metadata": {},
   "outputs": [],
   "source": [
    "A = mix\n",
    "B = mix\n",
    "def taller(person1, person2, difference):\n",
    "    joint = MakeJoint(person1, person2)\n",
    "    joint.Update(difference)\n",
    "    return joint.Marginal(0), joint.Marginal(1)"
   ]
  },
  {
   "cell_type": "code",
   "execution_count": 32,
   "metadata": {},
   "outputs": [
    {
     "ename": "AttributeError",
     "evalue": "'Joint' object has no attribute 'Update'",
     "output_type": "error",
     "traceback": [
      "\u001b[0;31m---------------------------------------------------------------------------\u001b[0m",
      "\u001b[0;31mAttributeError\u001b[0m                            Traceback (most recent call last)",
      "\u001b[0;32m<ipython-input-32-996b143d1359>\u001b[0m in \u001b[0;36m<module>\u001b[0;34m()\u001b[0m\n\u001b[1;32m      1\u001b[0m \u001b[0;32mfor\u001b[0m \u001b[0mi\u001b[0m \u001b[0;32min\u001b[0m \u001b[0mrange\u001b[0m\u001b[0;34m(\u001b[0m\u001b[0;36m8\u001b[0m\u001b[0;34m)\u001b[0m\u001b[0;34m:\u001b[0m\u001b[0;34m\u001b[0m\u001b[0m\n\u001b[0;32m----> 2\u001b[0;31m     \u001b[0mA\u001b[0m\u001b[0;34m,\u001b[0m \u001b[0m_\u001b[0m \u001b[0;34m=\u001b[0m \u001b[0mtaller\u001b[0m\u001b[0;34m(\u001b[0m\u001b[0mA\u001b[0m\u001b[0;34m,\u001b[0m \u001b[0mB\u001b[0m\u001b[0;34m,\u001b[0m \u001b[0;34m'A'\u001b[0m\u001b[0;34m)\u001b[0m\u001b[0;34m\u001b[0m\u001b[0m\n\u001b[0m\u001b[1;32m      3\u001b[0m \u001b[0;34m\u001b[0m\u001b[0m\n\u001b[1;32m      4\u001b[0m \u001b[0mA\u001b[0m\u001b[0;34m,\u001b[0m \u001b[0mB\u001b[0m \u001b[0;34m=\u001b[0m \u001b[0mtaller\u001b[0m\u001b[0;34m(\u001b[0m\u001b[0mA\u001b[0m\u001b[0;34m,\u001b[0m \u001b[0mB\u001b[0m\u001b[0;34m,\u001b[0m \u001b[0;34m'B'\u001b[0m\u001b[0;34m)\u001b[0m\u001b[0;34m;\u001b[0m\u001b[0;34m\u001b[0m\u001b[0m\n",
      "\u001b[0;32m<ipython-input-31-fd624ac8303e>\u001b[0m in \u001b[0;36mtaller\u001b[0;34m(person1, person2, difference)\u001b[0m\n\u001b[1;32m      3\u001b[0m \u001b[0;32mdef\u001b[0m \u001b[0mtaller\u001b[0m\u001b[0;34m(\u001b[0m\u001b[0mperson1\u001b[0m\u001b[0;34m,\u001b[0m \u001b[0mperson2\u001b[0m\u001b[0;34m,\u001b[0m \u001b[0mdifference\u001b[0m\u001b[0;34m)\u001b[0m\u001b[0;34m:\u001b[0m\u001b[0;34m\u001b[0m\u001b[0m\n\u001b[1;32m      4\u001b[0m     \u001b[0mjoint\u001b[0m \u001b[0;34m=\u001b[0m \u001b[0mMakeJoint\u001b[0m\u001b[0;34m(\u001b[0m\u001b[0mperson1\u001b[0m\u001b[0;34m,\u001b[0m \u001b[0mperson2\u001b[0m\u001b[0;34m)\u001b[0m\u001b[0;34m\u001b[0m\u001b[0m\n\u001b[0;32m----> 5\u001b[0;31m     \u001b[0mjoint\u001b[0m\u001b[0;34m.\u001b[0m\u001b[0mUpdate\u001b[0m\u001b[0;34m(\u001b[0m\u001b[0mdifference\u001b[0m\u001b[0;34m)\u001b[0m\u001b[0;34m\u001b[0m\u001b[0m\n\u001b[0m\u001b[1;32m      6\u001b[0m     \u001b[0;32mreturn\u001b[0m \u001b[0mjoint\u001b[0m\u001b[0;34m.\u001b[0m\u001b[0mMarginal\u001b[0m\u001b[0;34m(\u001b[0m\u001b[0;36m0\u001b[0m\u001b[0;34m)\u001b[0m\u001b[0;34m,\u001b[0m \u001b[0mjoint\u001b[0m\u001b[0;34m.\u001b[0m\u001b[0mMarginal\u001b[0m\u001b[0;34m(\u001b[0m\u001b[0;36m1\u001b[0m\u001b[0;34m)\u001b[0m\u001b[0;34m\u001b[0m\u001b[0m\n",
      "\u001b[0;31mAttributeError\u001b[0m: 'Joint' object has no attribute 'Update'"
     ]
    }
   ],
   "source": [
    "for i in range(8):\n",
    "    A, _ = taller(A, B, 'A')\n",
    "    \n",
    "A, B = taller(A, B, 'B');"
   ]
  },
  {
   "cell_type": "markdown",
   "metadata": {},
   "source": [
    "# Lincoln Index Problem"
   ]
  },
  {
   "cell_type": "markdown",
   "metadata": {},
   "source": [
    "Read How many errors are left to find?, and write a Bayesian solution to this problem:\n",
    "\n",
    "Suppose two testers independently search for bugs. Let k1 be the number of errors the first tester finds and k2 the number of errors the second tester finds. Let c be the number of errors both testers find.  [I changed Cook's notation to be consistent with mine].\n",
    "\n",
    "For concreteness, suppose the first tester finds 20 bugs, the second finds 15, and they find 3 in common.\n",
    "\n",
    "Compare your solution to the Lincoln Index, which estimates the total number of errors as k1 k2 / c."
   ]
  },
  {
   "cell_type": "code",
   "execution_count": 68,
   "metadata": {},
   "outputs": [
    {
     "data": {
      "text/plain": [
       "(110.0, 100)"
      ]
     },
     "execution_count": 68,
     "metadata": {},
     "output_type": "execute_result"
    },
    {
     "data": {
      "image/png": "[encoded data removed]",
      "text/plain": [
       "<matplotlib.figure.Figure at 0x7f03c7c46908>"
      ]
     },
     "metadata": {},
     "output_type": "display_data"
    }
   ],
   "source": [
    "prb = hypergeom.pmf(3,range(20,201),20,15);\n",
    "x = np.arange(20,201);\n",
    "\n",
    "bugs = Pmf();\n",
    "\n",
    "for i in range(0,181):\n",
    "    pred = i + 20\n",
    "    bugs[pred] = prb[i]\n",
    "\n",
    "thinkplot.Pmf(bugs)\n",
    "np.mean(bugs), bugs.MAP()"
   ]
  },
  {
   "cell_type": "code",
   "execution_count": 65,
   "metadata": {},
   "outputs": [
    {
     "data": {
      "text/plain": [
       "100.0"
      ]
     },
     "execution_count": 65,
     "metadata": {},
     "output_type": "execute_result"
    }
   ],
   "source": [
    "lincoln = (20*15)/3\n",
    "lincoln"
   ]
  },
  {
   "cell_type": "markdown",
   "metadata": {},
   "source": [
    "# The Skeet Problem"
   ]
  },
  {
   "cell_type": "markdown",
   "metadata": {},
   "source": [
    "At the 2016 Summer Olympics in the Women's Skeet event, Kim Rhode faced Wei Meng in the bronze medal match. They each hit 15 of 25 skeets, sending the match into sudden death. In the first round, both hit 1 of 2 skeets. In the next two rounds, they each hit 2 skeets. Finally, in the fourth round, Rhode hit 2 and Wei hit 1, so Rhode won the bronze medal, making her the first Summer Olympian to win an individual medal at six consecutive summer games.\n",
    "\n",
    "But after all that shooting, what is the probability that Rhode is actually a better shooter than Wei? If the same match were held again, what is the probability that Rhode would win?\n",
    "\n",
    "As always, you will have to make some modeling decisions, but one approach is to estimate, for each shooter, the probability of hitting a skeet. Then, to estimate the probability that Rhode is a better shooter, you can draw samples from the two posterior distributions and compare them. To estimate the probability of winning a rematch, you could draw samples from the posterior distributions and simulate a round of 25 shots."
   ]
  },
  {
   "cell_type": "code",
   "execution_count": 39,
   "metadata": {
    "collapsed": true
   },
   "outputs": [],
   "source": [
    "Rhode = Beta(1,1)\n",
    "Rhode.Update((22,11))\n",
    "Wei = Beta(1,1)\n",
    "Wei.Update((21,12))"
   ]
  },
  {
   "cell_type": "code",
   "execution_count": 40,
   "metadata": {},
   "outputs": [
    {
     "data": {
      "image/png": "[encoded data removed]",
      "text/plain": [
       "<matplotlib.figure.Figure at 0x7f03c7f48fd0>"
      ]
     },
     "metadata": {},
     "output_type": "display_data"
    }
   ],
   "source": [
    "thinkplot.Pdf(Wei.MakePmf())\n",
    "thinkplot.Pdf(Rhode.MakePmf())"
   ]
  },
  {
   "cell_type": "code",
   "execution_count": 41,
   "metadata": {},
   "outputs": [
    {
     "data": {
      "text/plain": [
       "0.600242"
      ]
     },
     "execution_count": 41,
     "metadata": {},
     "output_type": "execute_result"
    }
   ],
   "source": [
    "# Is Rhodes Better?\n",
    "r_sample = Rhode.MakeCdf(1000000).Sample(1000000)\n",
    "w_sample = Wei.MakeCdf(1000000).Sample(1000000)\n",
    "r_better = np.mean(r_sample > w_sample)\n",
    "r_better"
   ]
  },
  {
   "cell_type": "markdown",
   "metadata": {},
   "source": [
    "Once the shots are taken into account with an even prior the probability of Rhodes being a better skeet shooter than Wei is between 59 and 60 percent - closer to 60"
   ]
  },
  {
   "cell_type": "code",
   "execution_count": 42,
   "metadata": {},
   "outputs": [
    {
     "data": {
      "image/png": "[encoded data removed]",
      "text/plain": [
       "<matplotlib.figure.Figure at 0x7f03c7dfb588>"
      ]
     },
     "metadata": {},
     "output_type": "display_data"
    }
   ],
   "source": [
    "r_rematch = np.random.binomial(25, r_sample)\n",
    "w_rematch = np.random.binomial(25,w_sample)\n",
    "thinkplot.Hist(Pmf(r_rematch), width=0.45, align='right')\n",
    "thinkplot.Hist(Pmf(w_rematch), width=0.45, align='left')"
   ]
  },
  {
   "cell_type": "code",
   "execution_count": 46,
   "metadata": {},
   "outputs": [
    {
     "data": {
      "text/plain": [
       "(0.520052, 0.08879, 0.391158)"
      ]
     },
     "execution_count": 46,
     "metadata": {},
     "output_type": "execute_result"
    }
   ],
   "source": [
    "#Will Rhodes win a rematch?\n",
    "r_win = np.mean(r_rematch > w_rematch)\n",
    "r_tie = np.mean(r_rematch == w_rematch)\n",
    "r_lose = np.mean(r_rematch < w_rematch)\n",
    "r_win, r_tie, r_lose"
   ]
  },
  {
   "cell_type": "markdown",
   "metadata": {},
   "source": [
    "Rhodes has a 52 percent chance of winning a rematch against Wei and a 9 percent chance of a tie (meaning 39 percent chance of losing)"
   ]
  },
  {
   "cell_type": "markdown",
   "metadata": {},
   "source": [
    "# The Social Desireability Problem"
   ]
  },
  {
   "cell_type": "markdown",
   "metadata": {},
   "source": [
    "Whenever you survey people about sensitive issues, you have to deal with social desirability bias, which is the tendency of people to shade their answers in the direction they think shows them in the most positive light.\n",
    "\n",
    "One of the ways to improve the quality of the results is to collect responses in indirect ways.  For example, here's a clever way one research group estimated the prevalence of atheists.\n",
    "\n",
    "Another way is \"randomized response\", as described in this article or this video (if you can stand it).\n",
    "\n",
    "As an example, suppose you ask 100 people to flip a coin and:\n",
    "\n",
    "If they get heads, they report YES.\n",
    "If they get tails, then honestly answer the question \"Do you believe in God?\"\n",
    "\n",
    "And suppose you get 80 YESes and 20 NOs.\n",
    "\n",
    "Estimate the prevalence of atheists in the surveyed population (by which, as always, I mean compute a posterior distribution).\n"
   ]
  },
  {
   "cell_type": "code",
   "execution_count": null,
   "metadata": {
    "collapsed": true
   },
   "outputs": [],
   "source": []
  },
  {
   "cell_type": "markdown",
   "metadata": {},
   "source": [
    "# OTHER PROBLEM"
   ]
  },
  {
   "cell_type": "code",
   "execution_count": null,
   "metadata": {
    "collapsed": true
   },
   "outputs": [],
   "source": []
  },
  {
   "cell_type": "code",
   "execution_count": null,
   "metadata": {
    "collapsed": true
   },
   "outputs": [],
   "source": []
  },
  {
   "cell_type": "markdown",
   "metadata": {},
   "source": [
    "# Project Ideas"
   ]
  },
  {
   "cell_type": "code",
   "execution_count": null,
   "metadata": {
    "collapsed": true
   },
   "outputs": [],
   "source": []
  }
 ],
 "metadata": {
  "kernelspec": {
   "display_name": "Python 3",
   "language": "python",
   "name": "python3"
  },
  "language_info": {
   "codemirror_mode": {
    "name": "ipython",
    "version": 3
   },
   "file_extension": ".py",
   "mimetype": "text/x-python",
   "name": "python",
   "nbconvert_exporter": "python",
   "pygments_lexer": "ipython3",
   "version": "3.6.3"
  }
 },
 "nbformat": 4,
 "nbformat_minor": 1
}
