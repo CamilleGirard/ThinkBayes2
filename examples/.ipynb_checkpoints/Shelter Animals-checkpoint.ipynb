{
 "cells": [
  {
   "cell_type": "markdown",
   "metadata": {},
   "source": [
    "# Shelter Animals\n",
    "\n",
    "Homework 1\n",
    "Camille Girard\n"
   ]
  },
  {
   "cell_type": "markdown",
   "metadata": {},
   "source": [
    "You are volunteering at an animal shelter with cats or dogs in the shelter at a given time. A family comes in to look at 3 dogs and 5 cats. What are they most likely to do (Assuming there is an equal chance to pick each pet)?\n",
    "\n",
    "How different is a family that looks at 10 dogs and 1 cat? 1 dog and 10 cats?\n",
    "\n",
    "(Adopted or not? Data from the ASPCA - Average shelters contain 51% dogs and 49% cats. Dogs are 0.68 adopted or returned to owners 0.32 aren't, cats 0.53 are and 0.47 aren't)"
   ]
  },
  {
   "cell_type": "markdown",
   "metadata": {},
   "source": [
    "# Solution"
   ]
  },
  {
   "cell_type": "code",
   "execution_count": 102,
   "metadata": {},
   "outputs": [
    {
     "name": "stderr",
     "output_type": "stream",
     "text": [
      "ERROR:root:The 'ast_node_interactivity' trait of a ZMQInteractiveShell instance must be any of ['all', 'last', 'last_expr', 'none'], but a value of 'last_expr_or_assign' <class 'str'> was specified.\n"
     ]
    }
   ],
   "source": [
    "# Configure Jupyter so figures appear in the notebook\n",
    "%matplotlib inline\n",
    "\n",
    "# Configure Jupyter to display the assigned value after an assignment\n",
    "%config InteractiveShell.ast_node_interactivity='last_expr_or_assign'\n",
    "\n",
    "# import classes from thinkbayes2\n",
    "from thinkbayes2 import Pmf, Suite\n",
    "\n",
    "import thinkplot\n",
    "import pandas as pd\n",
    "import numpy as np\n",
    "\n",
    "import warnings\n",
    "warnings.filterwarnings('ignore')"
   ]
  },
  {
   "cell_type": "code",
   "execution_count": 116,
   "metadata": {
    "collapsed": true
   },
   "outputs": [],
   "source": [
    "#Create a table for the computations\n",
    "class BayesTable(pd.DataFrame):\n",
    "    def __init__(self, hypo, prior=1):\n",
    "        #create the table with the initial sections\n",
    "        columns = ['hypo', 'prior', 'likelihood', 'unnorm', 'posterior']\n",
    "        super().__init__(columns=columns)\n",
    "        self.hypo = hypo\n",
    "        self.prior = prior\n",
    "    \n",
    "    def mult(self):\n",
    "        #set a function to multiply the prior by the likelihood\n",
    "        self.unnorm = self.prior * self.likelihood\n",
    "        \n",
    "    def norm(self):\n",
    "        #set a function to normalize the values\n",
    "        nc = np.sum(self.unnorm)\n",
    "        self.posterior = self.unnorm / nc\n",
    "        return nc\n",
    "    \n",
    "    def update(self):\n",
    "        #set a function that will do both mult and norm in one step\n",
    "        self.mult()\n",
    "        return self.norm()\n",
    "    \n",
    "    def reset(self):\n",
    "        return BayesTable(self.hypo, self.posterior)"
   ]
  },
  {
   "cell_type": "code",
   "execution_count": 117,
   "metadata": {},
   "outputs": [
    {
     "data": {
      "text/html": [
       "<div>\n",
       "<style scoped>\n",
       "    .dataframe tbody tr th:only-of-type {\n",
       "        vertical-align: middle;\n",
       "    }\n",
       "\n",
       "    .dataframe tbody tr th {\n",
       "        vertical-align: top;\n",
       "    }\n",
       "\n",
       "    .dataframe thead th {\n",
       "        text-align: right;\n",
       "    }\n",
       "</style>\n",
       "<table border=\"1\" class=\"dataframe\">\n",
       "  <thead>\n",
       "    <tr style=\"text-align: right;\">\n",
       "      <th></th>\n",
       "      <th>hypo</th>\n",
       "      <th>prior</th>\n",
       "      <th>likelihood</th>\n",
       "      <th>unnorm</th>\n",
       "      <th>posterior</th>\n",
       "    </tr>\n",
       "  </thead>\n",
       "  <tbody>\n",
       "    <tr>\n",
       "      <th>0</th>\n",
       "      <td>Dog-Adopt</td>\n",
       "      <td>0.3468</td>\n",
       "      <td>0.375</td>\n",
       "      <td>0.130050</td>\n",
       "      <td>0.278554</td>\n",
       "    </tr>\n",
       "    <tr>\n",
       "      <th>1</th>\n",
       "      <td>Dog-Not</td>\n",
       "      <td>0.1632</td>\n",
       "      <td>0.375</td>\n",
       "      <td>0.061200</td>\n",
       "      <td>0.131084</td>\n",
       "    </tr>\n",
       "    <tr>\n",
       "      <th>2</th>\n",
       "      <td>Cat-Adopt</td>\n",
       "      <td>0.2597</td>\n",
       "      <td>0.625</td>\n",
       "      <td>0.162312</td>\n",
       "      <td>0.347657</td>\n",
       "    </tr>\n",
       "    <tr>\n",
       "      <th>3</th>\n",
       "      <td>Cat-Not</td>\n",
       "      <td>0.1813</td>\n",
       "      <td>0.625</td>\n",
       "      <td>0.113312</td>\n",
       "      <td>0.242704</td>\n",
       "    </tr>\n",
       "  </tbody>\n",
       "</table>\n",
       "</div>"
      ],
      "text/plain": [
       "        hypo   prior  likelihood    unnorm  posterior\n",
       "0  Dog-Adopt  0.3468       0.375  0.130050   0.278554\n",
       "1    Dog-Not  0.1632       0.375  0.061200   0.131084\n",
       "2  Cat-Adopt  0.2597       0.625  0.162312   0.347657\n",
       "3    Cat-Not  0.1813       0.625  0.113312   0.242704"
      ]
     },
     "execution_count": 117,
     "metadata": {},
     "output_type": "execute_result"
    }
   ],
   "source": [
    "# create a table with the priors\n",
    "# the priors are the portion of that animal in the shelter multiplied by the chance that it is adopted or not\n",
    "table2 = BayesTable(['Dog-Adopt', 'Dog-Not', 'Cat-Adopt', 'Cat-Not'], [0.51*0.68,0.51*0.32, 0.49*0.53, 0.49*0.37])\n",
    "#create a likelihood that shows how many dogs and cats the family has looked at - equal chance for each\n",
    "table2.likelihood =[3/8,3/8,5/8,5/8]\n",
    "table2.update()\n",
    "table2"
   ]
  },
  {
   "cell_type": "markdown",
   "metadata": {},
   "source": [
    "This result tells us that they are most likely (35%) to adopt a cat and about 63% likely to adopt either a dog or cat. They still have a 37% chance of not adopting any of the pets."
   ]
  },
  {
   "cell_type": "code",
   "execution_count": 119,
   "metadata": {},
   "outputs": [
    {
     "data": {
      "text/html": [
       "<div>\n",
       "<style scoped>\n",
       "    .dataframe tbody tr th:only-of-type {\n",
       "        vertical-align: middle;\n",
       "    }\n",
       "\n",
       "    .dataframe tbody tr th {\n",
       "        vertical-align: top;\n",
       "    }\n",
       "\n",
       "    .dataframe thead th {\n",
       "        text-align: right;\n",
       "    }\n",
       "</style>\n",
       "<table border=\"1\" class=\"dataframe\">\n",
       "  <thead>\n",
       "    <tr style=\"text-align: right;\">\n",
       "      <th></th>\n",
       "      <th>hypo</th>\n",
       "      <th>prior</th>\n",
       "      <th>likelihood</th>\n",
       "      <th>unnorm</th>\n",
       "      <th>posterior</th>\n",
       "    </tr>\n",
       "  </thead>\n",
       "  <tbody>\n",
       "    <tr>\n",
       "      <th>0</th>\n",
       "      <td>Dog-Adopt</td>\n",
       "      <td>0.278554</td>\n",
       "      <td>0.909091</td>\n",
       "      <td>0.253231</td>\n",
       "      <td>0.594344</td>\n",
       "    </tr>\n",
       "    <tr>\n",
       "      <th>1</th>\n",
       "      <td>Dog-Not</td>\n",
       "      <td>0.131084</td>\n",
       "      <td>0.909091</td>\n",
       "      <td>0.119168</td>\n",
       "      <td>0.279692</td>\n",
       "    </tr>\n",
       "    <tr>\n",
       "      <th>2</th>\n",
       "      <td>Cat-Adopt</td>\n",
       "      <td>0.347657</td>\n",
       "      <td>0.090909</td>\n",
       "      <td>0.031605</td>\n",
       "      <td>0.074179</td>\n",
       "    </tr>\n",
       "    <tr>\n",
       "      <th>3</th>\n",
       "      <td>Cat-Not</td>\n",
       "      <td>0.242704</td>\n",
       "      <td>0.090909</td>\n",
       "      <td>0.022064</td>\n",
       "      <td>0.051785</td>\n",
       "    </tr>\n",
       "  </tbody>\n",
       "</table>\n",
       "</div>"
      ],
      "text/plain": [
       "        hypo     prior  likelihood    unnorm  posterior\n",
       "0  Dog-Adopt  0.278554    0.909091  0.253231   0.594344\n",
       "1    Dog-Not  0.131084    0.909091  0.119168   0.279692\n",
       "2  Cat-Adopt  0.347657    0.090909  0.031605   0.074179\n",
       "3    Cat-Not  0.242704    0.090909  0.022064   0.051785"
      ]
     },
     "execution_count": 119,
     "metadata": {},
     "output_type": "execute_result"
    }
   ],
   "source": [
    "table3 = table2.reset()\n",
    "# create a new table with the same priors but new likelihood based on the animals they have looked at\n",
    "table3.likelihood = [10/11,10/11,1/11,1/11]\n",
    "table3.update()\n",
    "table3"
   ]
  },
  {
   "cell_type": "markdown",
   "metadata": {},
   "source": [
    "This family is 59% likely to adopt a dog and only another 7% to adopt a cat, they have a smaller (34%) chance of not adopting an pets."
   ]
  },
  {
   "cell_type": "code",
   "execution_count": 115,
   "metadata": {},
   "outputs": [
    {
     "data": {
      "text/html": [
       "<div>\n",
       "<style scoped>\n",
       "    .dataframe tbody tr th:only-of-type {\n",
       "        vertical-align: middle;\n",
       "    }\n",
       "\n",
       "    .dataframe tbody tr th {\n",
       "        vertical-align: top;\n",
       "    }\n",
       "\n",
       "    .dataframe thead th {\n",
       "        text-align: right;\n",
       "    }\n",
       "</style>\n",
       "<table border=\"1\" class=\"dataframe\">\n",
       "  <thead>\n",
       "    <tr style=\"text-align: right;\">\n",
       "      <th></th>\n",
       "      <th>hypo</th>\n",
       "      <th>prior</th>\n",
       "      <th>likelihood</th>\n",
       "      <th>unnorm</th>\n",
       "      <th>posterior</th>\n",
       "    </tr>\n",
       "  </thead>\n",
       "  <tbody>\n",
       "    <tr>\n",
       "      <th>0</th>\n",
       "      <td>Dog-Adopt</td>\n",
       "      <td>0.278554</td>\n",
       "      <td>0.090909</td>\n",
       "      <td>0.025323</td>\n",
       "      <td>0.044122</td>\n",
       "    </tr>\n",
       "    <tr>\n",
       "      <th>1</th>\n",
       "      <td>Dog-Not</td>\n",
       "      <td>0.131084</td>\n",
       "      <td>0.090909</td>\n",
       "      <td>0.011917</td>\n",
       "      <td>0.020763</td>\n",
       "    </tr>\n",
       "    <tr>\n",
       "      <th>2</th>\n",
       "      <td>Cat-Adopt</td>\n",
       "      <td>0.347657</td>\n",
       "      <td>0.909091</td>\n",
       "      <td>0.316052</td>\n",
       "      <td>0.550679</td>\n",
       "    </tr>\n",
       "    <tr>\n",
       "      <th>3</th>\n",
       "      <td>Cat-Not</td>\n",
       "      <td>0.242704</td>\n",
       "      <td>0.909091</td>\n",
       "      <td>0.220640</td>\n",
       "      <td>0.384436</td>\n",
       "    </tr>\n",
       "  </tbody>\n",
       "</table>\n",
       "</div>"
      ],
      "text/plain": [
       "        hypo     prior  likelihood    unnorm  posterior\n",
       "0  Dog-Adopt  0.278554    0.090909  0.025323   0.044122\n",
       "1    Dog-Not  0.131084    0.090909  0.011917   0.020763\n",
       "2  Cat-Adopt  0.347657    0.909091  0.316052   0.550679\n",
       "3    Cat-Not  0.242704    0.909091  0.220640   0.384436"
      ]
     },
     "execution_count": 115,
     "metadata": {},
     "output_type": "execute_result"
    }
   ],
   "source": [
    "table4 = table2.reset()\n",
    "table4.likelihood = [1/11,1/11,10/11,10/11]\n",
    "table4.update()\n",
    "table4"
   ]
  },
  {
   "cell_type": "markdown",
   "metadata": {
    "collapsed": true
   },
   "source": [
    "This final family is 55% likely to adopt a cat however have the highest chance (40%) of not adopting any pets."
   ]
  }
 ],
 "metadata": {
  "kernelspec": {
   "display_name": "Python 3",
   "language": "python",
   "name": "python3"
  },
  "language_info": {
   "codemirror_mode": {
    "name": "ipython",
    "version": 3
   },
   "file_extension": ".py",
   "mimetype": "text/x-python",
   "name": "python",
   "nbconvert_exporter": "python",
   "pygments_lexer": "ipython3",
   "version": "3.6.3"
  }
 },
 "nbformat": 4,
 "nbformat_minor": 1
}
