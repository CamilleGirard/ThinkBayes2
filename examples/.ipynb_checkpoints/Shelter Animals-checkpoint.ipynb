{
 "cells": [
  {
   "cell_type": "markdown",
   "metadata": {},
   "source": [
    "# Shelter Animals\n",
    "\n",
    "Homework 1\n",
    "Camille Girard\n",
    "Fall 18\n",
    "\n",
    "Knowing what might happen to your new furry friend"
   ]
  },
  {
   "cell_type": "code",
   "execution_count": 22,
   "metadata": {},
   "outputs": [
    {
     "name": "stderr",
     "output_type": "stream",
     "text": [
      "ERROR:root:The 'ast_node_interactivity' trait of a ZMQInteractiveShell instance must be any of ['all', 'last', 'last_expr', 'none'], but a value of 'last_expr_or_assign' <class 'str'> was specified.\n"
     ]
    }
   ],
   "source": [
    "# Configure Jupyter so figures appear in the notebook\n",
    "%matplotlib inline\n",
    "\n",
    "# Configure Jupyter to display the assigned value after an assignment\n",
    "%config InteractiveShell.ast_node_interactivity='last_expr_or_assign'\n",
    "\n",
    "# import classes from thinkbayes2\n",
    "from thinkbayes2 import Pmf, Suite\n",
    "\n",
    "import thinkplot\n",
    "import pandas as pd\n",
    "import numpy as np"
   ]
  },
  {
   "cell_type": "markdown",
   "metadata": {},
   "source": [
    "When walking you come across a shelter animal and wonder what will happen to the animal you just met. How about the more animals you meet?"
   ]
  },
  {
   "cell_type": "code",
   "execution_count": 23,
   "metadata": {},
   "outputs": [],
   "source": [
    "class BayesTable(pd.DataFrame):\n",
    "    def __init__(self, hypo, prior=1):\n",
    "        columns = ['hypo', 'prior', 'likelihood', 'unnorm', 'posterior']\n",
    "        super().__init__(columns=columns)\n",
    "        self.hypo = hypo\n",
    "        self.prior = prior\n",
    "    \n",
    "    def mult(self):\n",
    "        self.unnorm = self.prior * self.likelihood\n",
    "        \n",
    "    def norm(self):\n",
    "        nc = np.sum(self.unnorm)\n",
    "        self.posterior = self.unnorm / nc\n",
    "        return nc\n",
    "    \n",
    "    def update(self):\n",
    "        self.mult()\n",
    "        return self.norm()\n",
    "    \n",
    "    def reset(self):\n",
    "        return BayesTable(self.hypo, self.posterior)"
   ]
  },
  {
   "cell_type": "code",
   "execution_count": 25,
   "metadata": {},
   "outputs": [
    {
     "data": {
      "text/html": [
       "<div>\n",
       "<style scoped>\n",
       "    .dataframe tbody tr th:only-of-type {\n",
       "        vertical-align: middle;\n",
       "    }\n",
       "\n",
       "    .dataframe tbody tr th {\n",
       "        vertical-align: top;\n",
       "    }\n",
       "\n",
       "    .dataframe thead th {\n",
       "        text-align: right;\n",
       "    }\n",
       "</style>\n",
       "<table border=\"1\" class=\"dataframe\">\n",
       "  <thead>\n",
       "    <tr style=\"text-align: right;\">\n",
       "      <th></th>\n",
       "      <th>hypo</th>\n",
       "      <th>prior</th>\n",
       "      <th>likelihood</th>\n",
       "      <th>unnorm</th>\n",
       "      <th>posterior</th>\n",
       "    </tr>\n",
       "  </thead>\n",
       "  <tbody>\n",
       "    <tr>\n",
       "      <th>0</th>\n",
       "      <td>Dog - Adopt</td>\n",
       "      <td>0.508</td>\n",
       "      <td>0.485</td>\n",
       "      <td>0.246380</td>\n",
       "      <td>0.246380</td>\n",
       "    </tr>\n",
       "    <tr>\n",
       "      <th>1</th>\n",
       "      <td>Dog - Stray &amp; Return</td>\n",
       "      <td>0.508</td>\n",
       "      <td>0.188</td>\n",
       "      <td>0.095504</td>\n",
       "      <td>0.095504</td>\n",
       "    </tr>\n",
       "    <tr>\n",
       "      <th>2</th>\n",
       "      <td>Dog - Euthanized</td>\n",
       "      <td>0.508</td>\n",
       "      <td>0.203</td>\n",
       "      <td>0.103124</td>\n",
       "      <td>0.103124</td>\n",
       "    </tr>\n",
       "    <tr>\n",
       "      <th>3</th>\n",
       "      <td>Dog - Stay</td>\n",
       "      <td>0.508</td>\n",
       "      <td>0.124</td>\n",
       "      <td>0.062992</td>\n",
       "      <td>0.062992</td>\n",
       "    </tr>\n",
       "    <tr>\n",
       "      <th>4</th>\n",
       "      <td>Cat - Adopt</td>\n",
       "      <td>0.492</td>\n",
       "      <td>0.500</td>\n",
       "      <td>0.246000</td>\n",
       "      <td>0.246000</td>\n",
       "    </tr>\n",
       "    <tr>\n",
       "      <th>5</th>\n",
       "      <td>Cat - Stray &amp; Return</td>\n",
       "      <td>0.492</td>\n",
       "      <td>0.028</td>\n",
       "      <td>0.013776</td>\n",
       "      <td>0.013776</td>\n",
       "    </tr>\n",
       "    <tr>\n",
       "      <th>6</th>\n",
       "      <td>Cat - Euthanized</td>\n",
       "      <td>0.492</td>\n",
       "      <td>0.269</td>\n",
       "      <td>0.132348</td>\n",
       "      <td>0.132348</td>\n",
       "    </tr>\n",
       "    <tr>\n",
       "      <th>7</th>\n",
       "      <td>Cat - Stay</td>\n",
       "      <td>0.492</td>\n",
       "      <td>0.203</td>\n",
       "      <td>0.099876</td>\n",
       "      <td>0.099876</td>\n",
       "    </tr>\n",
       "  </tbody>\n",
       "</table>\n",
       "</div>"
      ],
      "text/plain": [
       "                   hypo  prior  likelihood    unnorm  posterior\n",
       "0           Dog - Adopt  0.508       0.485  0.246380   0.246380\n",
       "1  Dog - Stray & Return  0.508       0.188  0.095504   0.095504\n",
       "2      Dog - Euthanized  0.508       0.203  0.103124   0.103124\n",
       "3            Dog - Stay  0.508       0.124  0.062992   0.062992\n",
       "4           Cat - Adopt  0.492       0.500  0.246000   0.246000\n",
       "5  Cat - Stray & Return  0.492       0.028  0.013776   0.013776\n",
       "6      Cat - Euthanized  0.492       0.269  0.132348   0.132348\n",
       "7            Cat - Stay  0.492       0.203  0.099876   0.099876"
      ]
     },
     "execution_count": 25,
     "metadata": {},
     "output_type": "execute_result"
    }
   ],
   "source": [
    "table = BayesTable(['Dog - Adopt', 'Dog - Stray & Return', 'Dog - Euthanized', 'Dog - Stay', 'Cat - Adopt', 'Cat - Stray & Return', 'Cat - Euthanized', 'Cat - Stay'], [0.508, 0.508, 0.508, 0.508, 0.492, 0.492, 0.492, 0.492])\n",
    "table.likelihood =[0.485, 0.188, 0.203, 0.124, 0.5, 0.028, 0.269, 0.203]\n",
    "table.mult()\n",
    "table.update()\n",
    "table"
   ]
  },
  {
   "cell_type": "code",
   "execution_count": 6,
   "metadata": {
    "collapsed": true
   },
   "outputs": [],
   "source": [
    "class Subclass(Suite):\n",
    "    \n",
    "    def Likelihood(self, data, hypo):\n",
    "        \"\"\"Computes the likelihood of the data under the hypothesis.\n",
    "        \n",
    "        data: \n",
    "        hypo: \n",
    "        \"\"\"\n",
    "        like = 1\n",
    "        return like"
   ]
  },
  {
   "cell_type": "code",
   "execution_count": 26,
   "metadata": {},
   "outputs": [
    {
     "name": "stderr",
     "output_type": "stream",
     "text": [
      "WARNING:matplotlib.legend:No handles with labels found to put in legend.\n"
     ]
    },
    {
     "data": {
      "image/png": "[encoded data removed]",
      "text/plain": [
       "<matplotlib.figure.Figure at 0x7fbf7ad277b8>"
      ]
     },
     "metadata": {},
     "output_type": "display_data"
    }
   ],
   "source": [
    "prior = Subclass(['adopt', 'stray & return', 'euthanized', 'stay'])\n",
    "thinkplot.Hist(prior)\n",
    "thinkplot.Config(xlabel='x', ylabel='PMF')"
   ]
  },
  {
   "cell_type": "code",
   "execution_count": 10,
   "metadata": {},
   "outputs": [
    {
     "name": "stderr",
     "output_type": "stream",
     "text": [
      "No handles with labels found to put in legend.\n"
     ]
    },
    {
     "data": {
      "image/png": "[encoded data removed]",
      "text/plain": [
       "<Figure size 432x288 with 1 Axes>"
      ]
     },
     "metadata": {},
     "output_type": "display_data"
    }
   ],
   "source": [
    "posterior = prior.Copy()\n",
    "posterior.Update(1)\n",
    "thinkplot.Hist(prior, color='gray')\n",
    "thinkplot.Hist(posterior)\n",
    "thinkplot.Config(xlabel='x', ylabel='PMF')"
   ]
  },
  {
   "cell_type": "code",
   "execution_count": null,
   "metadata": {
    "collapsed": true
   },
   "outputs": [],
   "source": []
  }
 ],
 "metadata": {
  "kernelspec": {
   "display_name": "Python 3",
   "language": "python",
   "name": "python3"
  },
  "language_info": {
   "codemirror_mode": {
    "name": "ipython",
    "version": 3
   },
   "file_extension": ".py",
   "mimetype": "text/x-python",
   "name": "python",
   "nbconvert_exporter": "python",
   "pygments_lexer": "ipython3",
   "version": "3.6.3"
  }
 },
 "nbformat": 4,
 "nbformat_minor": 1
}
